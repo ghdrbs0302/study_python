{
  "cells": [
    {
      "cell_type": "code",
      "execution_count": 1,
      "metadata": {
        "colab": {
          "base_uri": "https://localhost:8080/"
        },
        "id": "lhRfVIVymxLl",
        "outputId": "fa6c26f7-8b45-46ac-fd75-af7c7ea498a0"
      },
      "outputs": [
        {
          "name": "stdout",
          "output_type": "stream",
          "text": [
            "2\n",
            "5\n"
          ]
        }
      ],
      "source": [
        "# 계산기 더하기 구현\n",
        "result = 0\n",
        "\n",
        "def add(num):\n",
        "    global result\n",
        "    result += num\n",
        "    return result\n",
        "\n",
        "print(add(2))\n",
        "print(add(3))"
      ]
    },
    {
      "cell_type": "code",
      "execution_count": 2,
      "metadata": {
        "colab": {
          "base_uri": "https://localhost:8080/"
        },
        "id": "TcasQloxoAYm",
        "outputId": "3853cdf3-8670-4665-a43e-68e08bbcb46f"
      },
      "outputs": [
        {
          "name": "stdout",
          "output_type": "stream",
          "text": [
            "2\n",
            "5\n",
            "4\n",
            "9\n"
          ]
        }
      ],
      "source": [
        "# 한 번에 2개의 더하기 계산기 구현하기\n",
        "result1 = 0\n",
        "result2 = 0\n",
        "\n",
        "def add1(num):\n",
        "    global result1\n",
        "    result1 += num\n",
        "    return result1\n",
        "\n",
        "def add2(num):\n",
        "    global result2\n",
        "    result2 += num\n",
        "    return result2\n",
        "\n",
        "print(add1(2))\n",
        "print(add1(3))\n",
        "print(add2(4))\n",
        "print(add2(5))"
      ]
    },
    {
      "cell_type": "markdown",
      "metadata": {
        "id": "KIS5Z-Z-pylW"
      },
      "source": [
        "수 없이 많은 더하기 계산기를 만들어야 하는 경우 클래스가 많아진다.  \n",
        "반복적인 코드로 길어지게 되는데 계산기 역할을 하는 클래스를 만들면 간단하게 만들 수 있다.  \n",
        "cal1, cal2와 같은 객체를 만들어서 add를 사용하면 더하기 계산기를 구현할 수 있다.  \n"
      ]
    },
    {
      "cell_type": "code",
      "execution_count": null,
      "metadata": {
        "id": "VRr5y-lopwNt"
      },
      "outputs": [],
      "source": [
        "# 클래스 활용\n",
        "class Calculator:\n",
        "    def __init__(self):\n",
        "        self.result = 0\n",
        "    \n",
        "    # 더하기 기능\n",
        "    def add(self, num):\n",
        "        self.result += num\n",
        "        return self.result\n",
        "\n",
        "cal1 = Calculator()\n",
        "cal2 = Calculator()\n",
        "\n",
        "print(cal1.add(2))\n",
        "print(cal1.add(3))\n",
        "print(cal2.add(4))\n",
        "print(cal2.add(5))"
      ]
    },
    {
      "cell_type": "markdown",
      "metadata": {
        "id": "rWglWkM_rR7f"
      },
      "source": [
        "빼기 기능도 추가할 수 있다"
      ]
    },
    {
      "cell_type": "code",
      "execution_count": 3,
      "metadata": {
        "colab": {
          "base_uri": "https://localhost:8080/"
        },
        "id": "07bUNvRnqW7p",
        "outputId": "7cff925e-77c5-47d8-8cbe-bc792e6bbea3"
      },
      "outputs": [
        {
          "name": "stdout",
          "output_type": "stream",
          "text": [
            "2\n",
            "5\n",
            "3\n"
          ]
        }
      ],
      "source": [
        "class Calculator:\n",
        "    def __init__(self):\n",
        "        self.result = 0\n",
        "\n",
        "    def add(self, num):\n",
        "        self.result += num\n",
        "        return self.result\n",
        "    \n",
        "    # 빼기 기능 추가\n",
        "    def sub(self, num):\n",
        "        self.result -= num\n",
        "        return self.result\n",
        "\n",
        "cal1 = Calculator()\n",
        "cal2 = Calculator()\n",
        "\n",
        "print(cal1.add(2))\n",
        "print(cal1.add(3))  # 2+3\n",
        "print(cal1.sub(2))  # 2+3-2"
      ]
    },
    {
      "cell_type": "code",
      "execution_count": null,
      "metadata": {},
      "outputs": [],
      "source": [
        "."
      ]
    }
  ],
  "metadata": {
    "colab": {
      "provenance": []
    },
    "kernelspec": {
      "display_name": "Python 3",
      "name": "python3"
    },
    "language_info": {
      "name": "python"
    }
  },
  "nbformat": 4,
  "nbformat_minor": 0
}
