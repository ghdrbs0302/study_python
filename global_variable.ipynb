{
  "cells": [
    {
      "cell_type": "markdown",
      "metadata": {
        "id": "SOLhMRQWS41e"
      },
      "source": [
        "#전역변수 / 지역변수\n"
      ]
    },
    {
      "cell_type": "code",
      "execution_count": 1,
      "metadata": {
        "colab": {
          "base_uri": "https://localhost:8080/"
        },
        "id": "e4NXQc3vRPF0",
        "outputId": "07abfbca-8c09-4ac1-e5e2-a5baf34d02e4"
      },
      "outputs": [
        {
          "name": "stdout",
          "output_type": "stream",
          "text": [
            "10\n",
            "10\n"
          ]
        }
      ],
      "source": [
        "x = 10          # 전역 변수\n",
        "def foo():\n",
        "    print(x)    # 전역 변수 출력\n",
        " \n",
        "foo()\n",
        "print(x)        # 전역 변수 출력\n",
        "\n",
        "#출력값\n",
        "'''\n",
        "10\n",
        "10\n",
        "'''"
      ]
    },
    {
      "cell_type": "markdown",
      "metadata": {
        "id": "VZFq6Ki7R5Ux"
      },
      "source": [
        "## 지역변수  \n",
        "\n",
        "지역 범위에만 영향을 주고 받을 수 있는 변수"
      ]
    },
    {
      "cell_type": "code",
      "execution_count": 1,
      "metadata": {
        "colab": {
          "base_uri": "https://localhost:8080/",
          "height": 223
        },
        "id": "vkoaQ8QrRUtE",
        "outputId": "3d1e4ad0-e347-4040-af15-9b980391fae9"
      },
      "outputs": [
        {
          "name": "stdout",
          "output_type": "stream",
          "text": [
            "10\n"
          ]
        },
        {
          "ename": "NameError",
          "evalue": "ignored",
          "output_type": "error",
          "traceback": [
            "\u001b[0;31m---------------------------------------------------------------------------\u001b[0m",
            "\u001b[0;31mNameError\u001b[0m                                 Traceback (most recent call last)",
            "\u001b[0;32m<ipython-input-1-98b127b8534c>\u001b[0m in \u001b[0;36m<cell line: 6>\u001b[0;34m()\u001b[0m\n\u001b[1;32m      4\u001b[0m \u001b[0;34m\u001b[0m\u001b[0m\n\u001b[1;32m      5\u001b[0m \u001b[0mfoo\u001b[0m\u001b[0;34m(\u001b[0m\u001b[0;34m)\u001b[0m\u001b[0;34m\u001b[0m\u001b[0;34m\u001b[0m\u001b[0m\n\u001b[0;32m----> 6\u001b[0;31m \u001b[0mprint\u001b[0m\u001b[0;34m(\u001b[0m\u001b[0mx\u001b[0m\u001b[0;34m)\u001b[0m        \u001b[0;31m# 에러. foo의 지역 변수는 출력할 수 없음\u001b[0m\u001b[0;34m\u001b[0m\u001b[0;34m\u001b[0m\u001b[0m\n\u001b[0m",
            "\u001b[0;31mNameError\u001b[0m: name 'x' is not defined"
          ]
        }
      ],
      "source": [
        "def foo():\n",
        "    x = 10      # foo의 지역 변수\n",
        "    print(x)    # foo의 지역 변수 출력\n",
        " \n",
        "foo()\n",
        "print(x)        # 에러. foo의 지역 변수는 출력할 수 없음\n",
        "\n",
        "#출력값\n",
        "'''\n",
        "10\n",
        "NameError: name 'x' is not defined\n",
        "'''"
      ]
    },
    {
      "cell_type": "code",
      "execution_count": 1,
      "metadata": {
        "colab": {
          "base_uri": "https://localhost:8080/"
        },
        "id": "Vt7hCspBRdbQ",
        "outputId": "23b02db9-5791-4d84-c0fd-db8d5d80501f"
      },
      "outputs": [
        {
          "name": "stdout",
          "output_type": "stream",
          "text": [
            "20\n",
            "10\n"
          ]
        }
      ],
      "source": [
        "x = 10          # 전역 변수\n",
        "def foo():\n",
        "    x = 20      # x는 함수 foo()의 지역 변수\n",
        "    print(x)    # foo의 지역 변수 출력\n",
        " \n",
        "foo()\n",
        "print(x)        # 전역 변수 출력\n",
        "\n",
        "#출력값\n",
        "'''\n",
        "20 -> foo() 함수 내에 있는 x 값인 20이다\n",
        "10 -> print(x)의 x 값은 'x=10' 이라는 전역변수의 값을 출력하는 것이다.\n",
        "'''"
      ]
    },
    {
      "cell_type": "code",
      "execution_count": 2,
      "metadata": {
        "colab": {
          "base_uri": "https://localhost:8080/"
        },
        "id": "RmJuJ9s5R_1_",
        "outputId": "ebf5dea2-14f2-4d5b-a1ba-5a5b2cb436f8"
      },
      "outputs": [
        {
          "name": "stdout",
          "output_type": "stream",
          "text": [
            "20\n",
            "20\n"
          ]
        }
      ],
      "source": [
        "# 함수 안에서 전역 변수의 값을 변경하려면 global 키워드를 사용해야한다.\n",
        "\n",
        "x = 10          # 전역 변수\n",
        "def foo():\n",
        "    global x    # 전역 변수 x를 사용하겠다고 설정\n",
        "    x = 20      # x는 전역 변수\n",
        "    print(x)    # 전역 변수 출력\n",
        " \n",
        "foo()\n",
        "print(x)        # 전역 변수 출력\n",
        "\n",
        "#출력값\n",
        "'''\n",
        "20 -> foo() 함수 내에서 global을 사용하여 전역 변수의 값을 변경하였다. x=10 이였던 전역변수가 x=20으로 변경되었다. \n",
        "20 -> 이때의 x 값은 x=10이 아닌 x=20 이다.\n",
        "'''"
      ]
    },
    {
      "cell_type": "code",
      "execution_count": null,
      "metadata": {},
      "outputs": [],
      "source": [
        "."
      ]
    },
    {
      "cell_type": "code",
      "execution_count": null,
      "metadata": {},
      "outputs": [],
      "source": []
    }
  ],
  "metadata": {
    "colab": {
      "provenance": []
    },
    "kernelspec": {
      "display_name": "Python 3",
      "name": "python3"
    },
    "language_info": {
      "name": "python"
    }
  },
  "nbformat": 4,
  "nbformat_minor": 0
}
